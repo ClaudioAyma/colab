{
  "nbformat": 4,
  "nbformat_minor": 0,
  "metadata": {
    "colab": {
      "name": "claudio snippets",
      "provenance": [],
      "collapsed_sections": [],
      "authorship_tag": "ABX9TyPPUM5xrDI82JICk/hgBBkI",
      "include_colab_link": true
    },
    "kernelspec": {
      "name": "python3",
      "display_name": "Python 3"
    },
    "language_info": {
      "name": "python"
    }
  },
  "cells": [
    {
      "cell_type": "markdown",
      "metadata": {
        "id": "view-in-github",
        "colab_type": "text"
      },
      "source": [
        "<a href=\"https://colab.research.google.com/github/ClaudioAyma/colab/blob/main/claudio_snippets.ipynb\" target=\"_parent\"><img src=\"https://colab.research.google.com/assets/colab-badge.svg\" alt=\"Open In Colab\"/></a>"
      ]
    },
    {
      "cell_type": "code",
      "metadata": {
        "id": "yW7IDXDDpidj"
      },
      "source": [
        "def suma(a,b):\n",
        "    return a + b"
      ],
      "execution_count": null,
      "outputs": []
    },
    {
      "cell_type": "code",
      "metadata": {
        "id": "4YP9fnEmrHV-"
      },
      "source": [
        "def resta(a,b):\n",
        "    return a - b"
      ],
      "execution_count": null,
      "outputs": []
    }
  ]
}