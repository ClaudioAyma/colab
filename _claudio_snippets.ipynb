{
  "nbformat": 4,
  "nbformat_minor": 0,
  "metadata": {
    "colab": {
      "name": "_claudio_snippets",
      "provenance": [],
      "collapsed_sections": [],
      "authorship_tag": "ABX9TyNq2p1A93aA9CnPFqcWlo/U",
      "include_colab_link": true
    },
    "kernelspec": {
      "name": "python3",
      "display_name": "Python 3"
    },
    "language_info": {
      "name": "python"
    }
  },
  "cells": [
    {
      "cell_type": "markdown",
      "metadata": {
        "id": "view-in-github",
        "colab_type": "text"
      },
      "source": [
        "<a href=\"https://colab.research.google.com/github/ClaudioAyma/colab/blob/main/_claudio_snippets.ipynb\" target=\"_parent\"><img src=\"https://colab.research.google.com/assets/colab-badge.svg\" alt=\"Open In Colab\"/></a>"
      ]
    },
    {
      "cell_type": "markdown",
      "metadata": {
        "id": "i-dAzrFXwSJQ"
      },
      "source": [
        "#_Suma"
      ]
    },
    {
      "cell_type": "code",
      "metadata": {
        "id": "yW7IDXDDpidj"
      },
      "source": [
        "def suma(a,b):\n",
        "    return a + b"
      ],
      "execution_count": 4,
      "outputs": []
    },
    {
      "cell_type": "markdown",
      "metadata": {
        "id": "cK5Rnsy1waId"
      },
      "source": [
        "#_Resta"
      ]
    },
    {
      "cell_type": "code",
      "metadata": {
        "id": "4YP9fnEmrHV-"
      },
      "source": [
        "def resta(a,b):\n",
        "    return a - b"
      ],
      "execution_count": null,
      "outputs": []
    },
    {
      "cell_type": "markdown",
      "metadata": {
        "id": "QgfiNlOCwcev"
      },
      "source": [
        "#_Division"
      ]
    },
    {
      "cell_type": "code",
      "metadata": {
        "id": "6UvAiZw7wQj2"
      },
      "source": [
        "def division(a,b):\n",
        "    return a / b"
      ],
      "execution_count": 3,
      "outputs": []
    }
  ]
}