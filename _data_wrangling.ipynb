{
  "nbformat": 4,
  "nbformat_minor": 0,
  "metadata": {
    "colab": {
      "name": "_data_wrangling",
      "provenance": [],
      "collapsed_sections": [],
      "authorship_tag": "ABX9TyNsmm2UZ+0FzECgBujNckMU",
      "include_colab_link": true
    },
    "kernelspec": {
      "name": "python3",
      "display_name": "Python 3"
    },
    "language_info": {
      "name": "python"
    }
  },
  "cells": [
    {
      "cell_type": "markdown",
      "metadata": {
        "id": "view-in-github",
        "colab_type": "text"
      },
      "source": [
        "<a href=\"https://colab.research.google.com/github/ClaudioAyma/colab/blob/main/_data_wrangling.ipynb\" target=\"_parent\"><img src=\"https://colab.research.google.com/assets/colab-badge.svg\" alt=\"Open In Colab\"/></a>"
      ]
    },
    {
      "cell_type": "markdown",
      "metadata": {
        "id": "i-dAzrFXwSJQ"
      },
      "source": [
        "#_SHOW_NA_VALUES\n",
        "A function that shows na values in a dataframe.\n",
        "Do not forget to asign first a ```df``` variable"
      ]
    },
    {
      "cell_type": "code",
      "metadata": {
        "id": "yW7IDXDDpidj"
      },
      "source": [
        "import numpy as np\n",
        "\n",
        "na_values = [\"\", \"?\", \"na\", \"NA\", \" \"]\n",
        "df.replace(na_values, np.nan, inplace=True)\n",
        "\n",
        "def show_na_info(df):\n",
        "    '''\n",
        "    AIM    ->  Show missing NA values in a table\n",
        "    INPUT  ->  df\n",
        "    OUTPUT ->  Table with missing values\n",
        "    ------\n",
        "    '''\n",
        "    null_sum = df.isnull().sum() \n",
        "    total = null_sum.sort_values(ascending=False)\n",
        "    percent = (((null_sum / df.shape[0])*100).round(2))\\\n",
        "        .sort_values(ascending=False)\n",
        "    count = \n",
        "    # concatenate along the columns to create the complete dataframe\n",
        "    df_NA = pd.concat(\n",
        "        [total, percent],\n",
        "        axis=1,\n",
        "        keys=['Number of NA', 'Percent NA']\n",
        "    )\n",
        "    # drop rows that don't have any missing data;\n",
        "    # omit if you want to keep all rows\n",
        "    df_NA = df_NA[(df_NA.T != 0).any()]\n",
        "    return df_NA\n",
        "show_na_info(df)"
      ],
      "execution_count": null,
      "outputs": []
    }
  ]
}